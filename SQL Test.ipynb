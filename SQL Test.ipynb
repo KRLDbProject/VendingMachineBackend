{
 "cells": [
  {
   "cell_type": "code",
   "execution_count": 57,
   "id": "fee492b3",
   "metadata": {},
   "outputs": [],
   "source": [
    "import mysql.connector\n",
    "import json\n",
    "\n",
    "db = mysql.connector.connect(\n",
    "    host = \"35.224.60.87\",\n",
    "    user = \"root\",\n",
    "    password = pswd,\n",
    "    database = \"vend\"\n",
    ")\n",
    "\n",
    "cursor = db.cursor()"
   ]
  },
  {
   "cell_type": "code",
   "execution_count": 58,
   "id": "1c5e4bba",
   "metadata": {},
   "outputs": [
    {
     "data": {
      "text/plain": [
       "'{\"items\": [{\"id\": 1, \"name\": \"Cheezits\"}, {\"id\": 2, \"name\": \"Veggie Straws\"}, {\"id\": 3, \"name\": \"Funyuns\"}, {\"id\": 4, \"name\": \"Snyder\\'s Pretzels\"}, {\"id\": 5, \"name\": \"Nacho Cheese Doritos\"}, {\"id\": 6, \"name\": \"Lays Potato Chips\"}, {\"id\": 7, \"name\": \"Cheetos\"}, {\"id\": 8, \"name\": \"Sour Cream And Cheddar Ruffles\"}, {\"id\": 9, \"name\": \"Baked Lays Potato Chips\"}, {\"id\": 10, \"name\": \"Cheese Pizza Combos\"}, {\"id\": 11, \"name\": \"Flamin Hot Limon Doritos\"}, {\"id\": 12, \"name\": \"Flamin Hot Cheetos\"}, {\"id\": 13, \"name\": \"Munchies\"}, {\"id\": 14, \"name\": \"Reese\\'s Peanut Butter Cups\"}, {\"id\": 15, \"name\": \"KitKat\"}, {\"id\": 16, \"name\": \"Snickers\"}, {\"id\": 17, \"name\": \"Twix\"}, {\"id\": 18, \"name\": \"M&Ms\"}, {\"id\": 19, \"name\": \"Nature Valley Granola Bar\"}, {\"id\": 20, \"name\": \"Kind Bar\"}, {\"id\": 21, \"name\": \"Mint Orbit Gum\"}, {\"id\": 22, \"name\": \"Peanut M&Ms\"}, {\"id\": 23, \"name\": \"Teryaki Beef Jerky\"}, {\"id\": 24, \"name\": \"Classic Pringles\"}, {\"id\": 25, \"name\": \"Honey Bun\"}, {\"id\": 26, \"name\": \"Chips Ahoy\"}, {\"id\": 27, \"name\": \"Smores Pop Tart\"}, {\"id\": 28, \"name\": \"Cherry Poptart\"}, {\"id\": 29, \"name\": \"Rice Crispy Treat\"}, {\"id\": 30, \"name\": \"Jays Jalapeno Crunches\"}, {\"id\": 31, \"name\": \"Lays BBQ Chips\"}, {\"id\": 32, \"name\": \"Lays Baked BBQ Chips\"}, {\"id\": 33, \"name\": \"Lays Salt and Vinegar Chips\"}, {\"id\": 34, \"name\": \"Lays Dill Pickle Chips\"}, {\"id\": 35, \"name\": \"BBQ Fritos Twists\"}, {\"id\": 36, \"name\": \"Chilli Cheese Fritos\"}, {\"id\": 37, \"name\": \"Wintergreen Orbit Gum\"}, {\"id\": 38, \"name\": \"Cinnamon Toast Crunch\"}, {\"id\": 39, \"name\": \"Fruit Snacks\"}, {\"id\": 40, \"name\": \"Skittles\"}, {\"id\": 41, \"name\": \"Mini Starbursts\"}, {\"id\": 42, \"name\": \"Big Texas Cinnimon Bun\"}, {\"id\": 43, \"name\": \"Lays Baked Sour Cream and Onion Chips\"}, {\"id\": 44, \"name\": \"Good Natured Thins\"}, {\"id\": 45, \"name\": \"Lays Sour Cream and Onion Chips\"}, {\"id\": 46, \"name\": \"Pop Chips Bold Cheddar\"}, {\"id\": 47, \"name\": \"Chex Mix\"}, {\"id\": 48, \"name\": \"Jalepeno Cheddar Cheetos\"}, {\"id\": 49, \"name\": \"Elfin Crackers\"}, {\"id\": 50, \"name\": \"Gummy Bears\"}, {\"id\": 51, \"name\": \"Peanut Butter Cheddar Cracker Sandwiches\"}, {\"id\": 52, \"name\": \"3 Musketeers\"}, {\"id\": 53, \"name\": \"Flamin Hot Nacho Doritos\"}, {\"id\": 54, \"name\": \"Pork Rinds\"}, {\"id\": 55, \"name\": \"Pop Corners\"}, {\"id\": 56, \"name\": \"Payday\"}, {\"id\": 57, \"name\": \"Trail Mix\"}, {\"id\": 58, \"name\": \"NutriGrain Bar\"}, {\"id\": 59, \"name\": \"Hostess Glazed Donuts\"}, {\"id\": 60, \"name\": \"TGI Fridays Potato Skins\"}, {\"id\": 61, \"name\": \"Famous Amous Cookies\"}, {\"id\": 62, \"name\": \"White Cheddar Smartfood Popcorn\"}, {\"id\": 63, \"name\": \"Cheezits\"}, {\"id\": 64, \"name\": \"Veggie Straws\"}, {\"id\": 65, \"name\": \"Funyuns\"}, {\"id\": 66, \"name\": \"Snyder\\'s Pretzels\"}, {\"id\": 67, \"name\": \"Nacho Cheese Doritos\"}, {\"id\": 68, \"name\": \"Lays Potato Chips\"}, {\"id\": 69, \"name\": \"Cheetos\"}, {\"id\": 70, \"name\": \"Sour Cream And Cheddar Ruffles\"}, {\"id\": 71, \"name\": \"Baked Lays Potato Chips\"}, {\"id\": 72, \"name\": \"Cheese Pizza Combos\"}, {\"id\": 73, \"name\": \"Flamin Hot Limon Doritos\"}, {\"id\": 74, \"name\": \"Flamin Hot Cheetos\"}, {\"id\": 75, \"name\": \"Munchies\"}, {\"id\": 76, \"name\": \"Reese\\'s Peanut Butter Cups\"}, {\"id\": 77, \"name\": \"KitKat\"}, {\"id\": 78, \"name\": \"Snickers\"}, {\"id\": 79, \"name\": \"Twix\"}, {\"id\": 80, \"name\": \"M&Ms\"}, {\"id\": 81, \"name\": \"Nature Valley Granola Bar\"}, {\"id\": 82, \"name\": \"Kind Bar\"}, {\"id\": 83, \"name\": \"Mint Orbit Gum\"}, {\"id\": 84, \"name\": \"Peanut M&Ms\"}, {\"id\": 85, \"name\": \"Teryaki Beef Jerky\"}, {\"id\": 86, \"name\": \"Classic Pringles\"}, {\"id\": 87, \"name\": \"Honey Bun\"}, {\"id\": 88, \"name\": \"Chips Ahoy\"}, {\"id\": 89, \"name\": \"Smores Pop Tart\"}, {\"id\": 90, \"name\": \"Cherry Poptart\"}, {\"id\": 91, \"name\": \"Rice Crispy Treat\"}, {\"id\": 92, \"name\": \"Jays Jalapeno Crunches\"}, {\"id\": 93, \"name\": \"Lays BBQ Chips\"}, {\"id\": 94, \"name\": \"Lays Baked BBQ Chips\"}, {\"id\": 95, \"name\": \"Lays Salt and Vinegar Chips\"}, {\"id\": 96, \"name\": \"Lays Dill Pickle Chips\"}, {\"id\": 97, \"name\": \"BBQ Fritos Twists\"}, {\"id\": 98, \"name\": \"Chilli Cheese Fritos\"}, {\"id\": 99, \"name\": \"Wintergreen Orbit Gum\"}, {\"id\": 100, \"name\": \"Cinnamon Toast Crunch\"}, {\"id\": 101, \"name\": \"Fruit Snacks\"}, {\"id\": 102, \"name\": \"Skittles\"}, {\"id\": 103, \"name\": \"Mini Starbursts\"}, {\"id\": 104, \"name\": \"Big Texas Cinnimon Bun\"}, {\"id\": 105, \"name\": \"Lays Baked Sour Cream and Onion Chips\"}, {\"id\": 106, \"name\": \"Good Natured Thins\"}, {\"id\": 107, \"name\": \"Lays Sour Cream and Onion Chips\"}, {\"id\": 108, \"name\": \"Pop Chips Bold Cheddar\"}, {\"id\": 109, \"name\": \"Chex Mix\"}, {\"id\": 110, \"name\": \"Jalepeno Cheddar Cheetos\"}, {\"id\": 111, \"name\": \"Elfin Crackers\"}, {\"id\": 112, \"name\": \"Gummy Bears\"}, {\"id\": 113, \"name\": \"Peanut Butter Cheddar Cracker Sandwiches\"}, {\"id\": 114, \"name\": \"3 Musketeers\"}, {\"id\": 115, \"name\": \"Flamin Hot Nacho Doritos\"}, {\"id\": 116, \"name\": \"Pork Rinds\"}, {\"id\": 117, \"name\": \"Pop Corners\"}, {\"id\": 118, \"name\": \"Payday\"}, {\"id\": 119, \"name\": \"Trail Mix\"}, {\"id\": 120, \"name\": \"NutriGrain Bar\"}, {\"id\": 121, \"name\": \"Hostess Glazed Donuts\"}, {\"id\": 122, \"name\": \"TGI Fridays Potato Skins\"}, {\"id\": 123, \"name\": \"Famous Amous Cookies\"}, {\"id\": 124, \"name\": \"White Cheddar Smartfood Popcorn\"}]}'"
      ]
     },
     "execution_count": 58,
     "metadata": {},
     "output_type": "execute_result"
    }
   ],
   "source": [
    "cursor.callproc(\"GetAllItems\")\n",
    "results = next(cursor.stored_results()).fetchall()\n",
    "\n",
    "convertedResults = []\n",
    "for i in results:\n",
    "    convertedResults.append({\"id\":i[0], \"name\":i[1]})\n",
    "\n",
    "json.dumps({\"items\":convertedResults})"
   ]
  },
  {
   "cell_type": "code",
   "execution_count": 59,
   "id": "b60d9131",
   "metadata": {},
   "outputs": [
    {
     "data": {
      "text/plain": [
       "'{\"locations\": [{\"id\": 1, \"description\": \"Dodge Hall\", \"lat\": -83.21655, \"lon\": 42.67186}, {\"id\": 2, \"description\": \"MSC Floor 2 East\", \"lat\": -83.21656, \"lon\": 42.67129}, {\"id\": 3, \"description\": \"MSC Floor 1 East\", \"lat\": -83.21655, \"lon\": 42.67134}, {\"id\": 4, \"description\": \"MSC Floor 1 West\", \"lat\": -83.21799, \"lon\": 42.67095}, {\"id\": 5, \"description\": \"Hannah Hall\", \"lat\": -83.21776, \"lon\": 42.67186}, {\"id\": 6, \"description\": \"OC Floor 2\", \"lat\": -83.21689, \"lon\": 42.67407}, {\"id\": 7, \"description\": \"OC Floor 1 Near Bear Cave\", \"lat\": -83.2169, \"lon\": 42.67389}, {\"id\": 8, \"description\": \"OC Floor 1 Near Bookstore\", \"lat\": -83.21628, \"lon\": 42.67473}, {\"id\": 9, \"description\": \"O\\'Dowd Hall\", \"lat\": -83.21521, \"lon\": 42.67451}, {\"id\": 10, \"description\": \"Human Health Building Floor 4\", \"lat\": -83.21963, \"lon\": 42.67759}, {\"id\": 11, \"description\": \"Human Health Building Floor 4\", \"lat\": -83.21963, \"lon\": 42.67759}, {\"id\": 12, \"description\": \"Dodge Hall\", \"lat\": -83.21655, \"lon\": 42.67186}, {\"id\": 13, \"description\": \"MSC Floor 2 East\", \"lat\": -83.21656, \"lon\": 42.67129}, {\"id\": 14, \"description\": \"MSC Floor 1 East\", \"lat\": -83.21655, \"lon\": 42.67134}, {\"id\": 15, \"description\": \"MSC Floor 1 West\", \"lat\": -83.21799, \"lon\": 42.67095}, {\"id\": 16, \"description\": \"Hannah Hall\", \"lat\": -83.21776, \"lon\": 42.67186}, {\"id\": 17, \"description\": \"OC Floor 2\", \"lat\": -83.21689, \"lon\": 42.67407}, {\"id\": 18, \"description\": \"OC Floor 1 Near Bear Cave\", \"lat\": -83.2169, \"lon\": 42.67389}, {\"id\": 19, \"description\": \"OC Floor 1 Near Bookstore\", \"lat\": -83.21628, \"lon\": 42.67473}, {\"id\": 20, \"description\": \"O\\'Dowd Hall\", \"lat\": -83.21521, \"lon\": 42.67451}, {\"id\": 21, \"description\": \"Human Health Building Floor 4\", \"lat\": -83.21963, \"lon\": 42.67759}, {\"id\": 22, \"description\": \"Human Health Building Floor 4\", \"lat\": -83.21963, \"lon\": 42.67759}]}'"
      ]
     },
     "execution_count": 59,
     "metadata": {},
     "output_type": "execute_result"
    }
   ],
   "source": [
    "cursor.callproc(\"GetAllLocations\")\n",
    "results = next(cursor.stored_results()).fetchall()\n",
    "\n",
    "convertedResults = []\n",
    "for i in results:\n",
    "    convertedResults.append({\"id\":i[0], \"description\":i[1], \"lat\":i[2], \"lon\":i[3]})\n",
    "\n",
    "json.dumps({\"locations\":convertedResults}) "
   ]
  },
  {
   "cell_type": "code",
   "execution_count": 64,
   "id": "4f720176",
   "metadata": {},
   "outputs": [
    {
     "data": {
      "text/plain": [
       "'{\"machines\": [{\"id\": 1, \"specific-location\": \"Machine closest to railing.\"}, {\"id\": 11, \"specific-location\": \"Machine closest to railing.\"}]}'"
      ]
     },
     "execution_count": 64,
     "metadata": {},
     "output_type": "execute_result"
    }
   ],
   "source": [
    "cursor.callproc(\"GetMachinesAtLocation\", [1])\n",
    "results = next(cursor.stored_results()).fetchall()\n",
    "\n",
    "convertedResults = []\n",
    "for i in results:\n",
    "    convertedResults.append({\"id\":i[0], \"specific-location\":i[1]})\n",
    "\n",
    "json.dumps({\"machines\":convertedResults})"
   ]
  },
  {
   "cell_type": "code",
   "execution_count": 65,
   "id": "058c3cf2",
   "metadata": {},
   "outputs": [
    {
     "data": {
      "text/plain": [
       "'{\"items\": [{\"id\": 31, \"name\": \"Lays BBQ Chips\"}, {\"id\": 60, \"name\": \"TGI Fridays Potato Skins\"}, {\"id\": 11, \"name\": \"Flamin Hot Limon Doritos\"}, {\"id\": 4, \"name\": \"Snyder\\'s Pretzels\"}, {\"id\": 5, \"name\": \"Nacho Cheese Doritos\"}, {\"id\": 3, \"name\": \"Funyuns\"}, {\"id\": 7, \"name\": \"Cheetos\"}, {\"id\": 31, \"name\": \"Lays BBQ Chips\"}, {\"id\": 60, \"name\": \"TGI Fridays Potato Skins\"}, {\"id\": 11, \"name\": \"Flamin Hot Limon Doritos\"}, {\"id\": 4, \"name\": \"Snyder\\'s Pretzels\"}, {\"id\": 5, \"name\": \"Nacho Cheese Doritos\"}, {\"id\": 3, \"name\": \"Funyuns\"}, {\"id\": 7, \"name\": \"Cheetos\"}]}'"
      ]
     },
     "execution_count": 65,
     "metadata": {},
     "output_type": "execute_result"
    }
   ],
   "source": [
    "cursor.callproc(\"GetItemsAtMachine\", [1])\n",
    "results = next(cursor.stored_results()).fetchall()\n",
    "\n",
    "convertedResults = []\n",
    "for i in results:\n",
    "    convertedResults.append({\"id\":i[0], \"name\":i[1]})\n",
    "\n",
    "json.dumps({\"items\":convertedResults}) "
   ]
  },
  {
   "cell_type": "code",
   "execution_count": 67,
   "id": "84633501",
   "metadata": {},
   "outputs": [
    {
     "data": {
      "text/plain": [
       "'{\"name\": \"Cheezits\", \"description\": \"Cheesy snack crackers.\"}'"
      ]
     },
     "execution_count": 67,
     "metadata": {},
     "output_type": "execute_result"
    }
   ],
   "source": [
    "cursor.callproc(\"GetDetailsOfItem\", [1])\n",
    "results = next(cursor.stored_results()).fetchall()\n",
    "\n",
    "convertedResults = []\n",
    "for i in results:\n",
    "    convertedResults.append({\"name\":i[0], \"description\":i[1]})\n",
    "\n",
    "json.dumps(convertedResults[0]) "
   ]
  },
  {
   "cell_type": "code",
   "execution_count": 70,
   "id": "8566758c",
   "metadata": {},
   "outputs": [
    {
     "data": {
      "text/plain": [
       "'{\"machines\": [{\"id\": 3, \"location-id\": 3, \"last-updated\": \"2021-11-26 06:07:32\"}, {\"id\": 4, \"location-id\": 4, \"last-updated\": \"2021-11-26 06:07:32\"}, {\"id\": 5, \"location-id\": 5, \"last-updated\": \"2021-11-26 06:07:32\"}, {\"id\": 6, \"location-id\": 6, \"last-updated\": \"2021-11-26 06:07:32\"}, {\"id\": 7, \"location-id\": 7, \"last-updated\": \"2021-11-26 06:07:32\"}, {\"id\": 8, \"location-id\": 8, \"last-updated\": \"2021-11-26 06:07:32\"}, {\"id\": 9, \"location-id\": 9, \"last-updated\": \"2021-11-26 06:07:32\"}, {\"id\": 10, \"location-id\": 10, \"last-updated\": \"2021-11-26 06:07:32\"}, {\"id\": 3, \"location-id\": 3, \"last-updated\": \"2021-11-26 06:28:29\"}, {\"id\": 4, \"location-id\": 4, \"last-updated\": \"2021-11-26 06:28:29\"}, {\"id\": 5, \"location-id\": 5, \"last-updated\": \"2021-11-26 06:28:29\"}, {\"id\": 6, \"location-id\": 6, \"last-updated\": \"2021-11-26 06:28:29\"}, {\"id\": 7, \"location-id\": 7, \"last-updated\": \"2021-11-26 06:28:29\"}, {\"id\": 8, \"location-id\": 8, \"last-updated\": \"2021-11-26 06:28:29\"}, {\"id\": 9, \"location-id\": 9, \"last-updated\": \"2021-11-26 06:28:29\"}, {\"id\": 10, \"location-id\": 10, \"last-updated\": \"2021-11-26 06:28:29\"}]}'"
      ]
     },
     "execution_count": 70,
     "metadata": {},
     "output_type": "execute_result"
    }
   ],
   "source": [
    "cursor.callproc(\"GetMachinesWithItem\", [1])\n",
    "results = next(cursor.stored_results()).fetchall()\n",
    "\n",
    "convertedResults = []\n",
    "for i in results:\n",
    "    convertedResults.append({\"id\":i[0], \"location-id\":i[1], \"last-updated\":i[2].strftime(\"%Y-%m-%d %H:%M:%S\")})\n",
    "\n",
    "json.dumps({\"machines\":convertedResults}) "
   ]
  },
  {
   "cell_type": "code",
   "execution_count": 72,
   "id": "6c1e9eb5",
   "metadata": {},
   "outputs": [
    {
     "data": {
      "text/plain": [
       "31"
      ]
     },
     "execution_count": 72,
     "metadata": {},
     "output_type": "execute_result"
    }
   ],
   "source": [
    "cursor.callproc(\"GetItemIdOfOldestEntryForMachine\", [1])\n",
    "results = next(cursor.stored_results()).fetchall()\n",
    "results[0][0]"
   ]
  },
  {
   "cell_type": "code",
   "execution_count": null,
   "id": "2753a8c5",
   "metadata": {},
   "outputs": [],
   "source": []
  }
 ],
 "metadata": {
  "kernelspec": {
   "display_name": "Python 3 (ipykernel)",
   "language": "python",
   "name": "python3"
  },
  "language_info": {
   "codemirror_mode": {
    "name": "ipython",
    "version": 3
   },
   "file_extension": ".py",
   "mimetype": "text/x-python",
   "name": "python",
   "nbconvert_exporter": "python",
   "pygments_lexer": "ipython3",
   "version": "3.9.7"
  }
 },
 "nbformat": 4,
 "nbformat_minor": 5
}
